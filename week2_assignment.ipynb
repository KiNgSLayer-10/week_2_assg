{
 "cells": [
  {
   "cell_type": "code",
   "execution_count": 450,
   "metadata": {},
   "outputs": [],
   "source": [
    "import tensorflow as tf\n",
    "%matplotlib inline\n",
    "import numpy as np # linear algebra\n",
    "import seaborn as sns #statistical data visualization\n",
    "sns.set(style='whitegrid')\n",
    "import pandas as pd # data processing, CSV file I/O (e.g. pd.read_csv)\n",
    "import matplotlib.pyplot as plt\n"
   ]
  },
  {
   "cell_type": "code",
   "execution_count": 451,
   "metadata": {},
   "outputs": [
    {
     "data": {
      "text/html": [
       "<div>\n",
       "<style scoped>\n",
       "    .dataframe tbody tr th:only-of-type {\n",
       "        vertical-align: middle;\n",
       "    }\n",
       "\n",
       "    .dataframe tbody tr th {\n",
       "        vertical-align: top;\n",
       "    }\n",
       "\n",
       "    .dataframe thead th {\n",
       "        text-align: right;\n",
       "    }\n",
       "</style>\n",
       "<table border=\"1\" class=\"dataframe\">\n",
       "  <thead>\n",
       "    <tr style=\"text-align: right;\">\n",
       "      <th></th>\n",
       "      <th>sepal_length</th>\n",
       "      <th>sepal_width</th>\n",
       "      <th>petal_length</th>\n",
       "      <th>petal_width</th>\n",
       "      <th>species</th>\n",
       "    </tr>\n",
       "  </thead>\n",
       "  <tbody>\n",
       "    <tr>\n",
       "      <th>0</th>\n",
       "      <td>5.1</td>\n",
       "      <td>3.5</td>\n",
       "      <td>1.4</td>\n",
       "      <td>0.2</td>\n",
       "      <td>setosa</td>\n",
       "    </tr>\n",
       "    <tr>\n",
       "      <th>1</th>\n",
       "      <td>4.9</td>\n",
       "      <td>3.0</td>\n",
       "      <td>1.4</td>\n",
       "      <td>0.2</td>\n",
       "      <td>setosa</td>\n",
       "    </tr>\n",
       "    <tr>\n",
       "      <th>2</th>\n",
       "      <td>4.7</td>\n",
       "      <td>3.2</td>\n",
       "      <td>1.3</td>\n",
       "      <td>0.2</td>\n",
       "      <td>setosa</td>\n",
       "    </tr>\n",
       "    <tr>\n",
       "      <th>3</th>\n",
       "      <td>4.6</td>\n",
       "      <td>3.1</td>\n",
       "      <td>1.5</td>\n",
       "      <td>0.2</td>\n",
       "      <td>setosa</td>\n",
       "    </tr>\n",
       "    <tr>\n",
       "      <th>4</th>\n",
       "      <td>5.0</td>\n",
       "      <td>3.6</td>\n",
       "      <td>1.4</td>\n",
       "      <td>0.2</td>\n",
       "      <td>setosa</td>\n",
       "    </tr>\n",
       "  </tbody>\n",
       "</table>\n",
       "</div>"
      ],
      "text/plain": [
       "   sepal_length  sepal_width  petal_length  petal_width species\n",
       "0           5.1          3.5           1.4          0.2  setosa\n",
       "1           4.9          3.0           1.4          0.2  setosa\n",
       "2           4.7          3.2           1.3          0.2  setosa\n",
       "3           4.6          3.1           1.5          0.2  setosa\n",
       "4           5.0          3.6           1.4          0.2  setosa"
      ]
     },
     "execution_count": 451,
     "metadata": {},
     "output_type": "execute_result"
    }
   ],
   "source": [
    "#https://gist.githubusercontent.com/curran/a08a1080b88344b0c8a7/raw/639388c2cbc2120a14dcf466e85730eb8be498bb/iris.csv\n",
    "#link to download the CSV file\n",
    "#line1-------------\n",
    "Iris = pd.read_csv(\"https://gist.githubusercontent.com/curran/a08a1080b88344b0c8a7/raw/639388c2cbc2120a14dcf466e85730eb8be498bb/iris.csv\")\n",
    "Iris.head()"
   ]
  },
  {
   "cell_type": "code",
   "execution_count": 452,
   "metadata": {},
   "outputs": [
    {
     "data": {
      "text/plain": [
       "(150, 5)"
      ]
     },
     "execution_count": 452,
     "metadata": {},
     "output_type": "execute_result"
    }
   ],
   "source": [
    "Iris.shape"
   ]
  },
  {
   "cell_type": "code",
   "execution_count": 453,
   "metadata": {},
   "outputs": [
    {
     "data": {
      "text/plain": [
       "(100, 5)"
      ]
     },
     "execution_count": 453,
     "metadata": {},
     "output_type": "execute_result"
    }
   ],
   "source": [
    "#since we are gonna perform binary classification using Logistic Regression we will only include first 100 samples which consists of irises’ (Setosa and Versicolour)\n",
    "#line2-------------\n",
    "Iris=Iris.loc[:99,:]\n",
    "Iris.shape"
   ]
  },
  {
   "cell_type": "code",
   "execution_count": 454,
   "metadata": {},
   "outputs": [],
   "source": [
    "'''Step 2: Numerical processing\n",
    "replace 'Iris-setosa' as 0\n",
    "replace 'Iris-versicolor' as 1'''\n",
    "#line3-------------------------\n",
    "Iris.species=pd.get_dummies(Iris.species,drop_first=True)"
   ]
  },
  {
   "cell_type": "code",
   "execution_count": 455,
   "metadata": {},
   "outputs": [
    {
     "data": {
      "text/html": [
       "<div>\n",
       "<style scoped>\n",
       "    .dataframe tbody tr th:only-of-type {\n",
       "        vertical-align: middle;\n",
       "    }\n",
       "\n",
       "    .dataframe tbody tr th {\n",
       "        vertical-align: top;\n",
       "    }\n",
       "\n",
       "    .dataframe thead th {\n",
       "        text-align: right;\n",
       "    }\n",
       "</style>\n",
       "<table border=\"1\" class=\"dataframe\">\n",
       "  <thead>\n",
       "    <tr style=\"text-align: right;\">\n",
       "      <th></th>\n",
       "      <th>sepal_length</th>\n",
       "      <th>sepal_width</th>\n",
       "      <th>petal_length</th>\n",
       "      <th>petal_width</th>\n",
       "      <th>species</th>\n",
       "    </tr>\n",
       "  </thead>\n",
       "  <tbody>\n",
       "    <tr>\n",
       "      <th>0</th>\n",
       "      <td>5.1</td>\n",
       "      <td>3.5</td>\n",
       "      <td>1.4</td>\n",
       "      <td>0.2</td>\n",
       "      <td>0</td>\n",
       "    </tr>\n",
       "    <tr>\n",
       "      <th>1</th>\n",
       "      <td>4.9</td>\n",
       "      <td>3.0</td>\n",
       "      <td>1.4</td>\n",
       "      <td>0.2</td>\n",
       "      <td>0</td>\n",
       "    </tr>\n",
       "    <tr>\n",
       "      <th>2</th>\n",
       "      <td>4.7</td>\n",
       "      <td>3.2</td>\n",
       "      <td>1.3</td>\n",
       "      <td>0.2</td>\n",
       "      <td>0</td>\n",
       "    </tr>\n",
       "    <tr>\n",
       "      <th>3</th>\n",
       "      <td>4.6</td>\n",
       "      <td>3.1</td>\n",
       "      <td>1.5</td>\n",
       "      <td>0.2</td>\n",
       "      <td>0</td>\n",
       "    </tr>\n",
       "    <tr>\n",
       "      <th>4</th>\n",
       "      <td>5.0</td>\n",
       "      <td>3.6</td>\n",
       "      <td>1.4</td>\n",
       "      <td>0.2</td>\n",
       "      <td>0</td>\n",
       "    </tr>\n",
       "  </tbody>\n",
       "</table>\n",
       "</div>"
      ],
      "text/plain": [
       "   sepal_length  sepal_width  petal_length  petal_width  species\n",
       "0           5.1          3.5           1.4          0.2        0\n",
       "1           4.9          3.0           1.4          0.2        0\n",
       "2           4.7          3.2           1.3          0.2        0\n",
       "3           4.6          3.1           1.5          0.2        0\n",
       "4           5.0          3.6           1.4          0.2        0"
      ]
     },
     "execution_count": 455,
     "metadata": {},
     "output_type": "execute_result"
    }
   ],
   "source": [
    "Iris.head()"
   ]
  },
  {
   "cell_type": "code",
   "execution_count": 456,
   "metadata": {},
   "outputs": [
    {
     "data": {
      "text/plain": [
       "<matplotlib.legend.Legend at 0x1c861630>"
      ]
     },
     "execution_count": 456,
     "metadata": {},
     "output_type": "execute_result"
    },
    {
     "data": {
      "image/png": "[encoded data removed]",
      "text/plain": [
       "<Figure size 432x288 with 1 Axes>"
      ]
     },
     "metadata": {},
     "output_type": "display_data"
    }
   ],
   "source": [
    "#visualization of given dataset\n",
    "#codesegment4------------------\n",
    "sns.scatterplot(x=\"sepal_length\",y=\"sepal_width\",data=Iris,hue=\"species\")\n",
    "plt.xlabel('SepalLength')\n",
    "plt.ylabel('SepalWidth')\n",
    "plt.legend(loc=\"best\")"
   ]
  },
  {
   "cell_type": "code",
   "execution_count": 457,
   "metadata": {},
   "outputs": [],
   "source": [
    "X = Iris.drop(labels=['species'], axis=1).values #feature matrix\n",
    "Y = Iris.species.values #output\n"
   ]
  },
  {
   "cell_type": "code",
   "execution_count": 458,
   "metadata": {},
   "outputs": [],
   "source": [
    "'''Step 3: Split data\n",
    "trainset: 80%\n",
    "testset: 20%'''\n",
    "# set seed for numpy and tensorflow\n",
    "# set for reproducible results\n",
    "seed = 5\n",
    "#line5-------------\n",
    "np.random.seed(seed)\n",
    "tf.set_random_seed(seed)\n",
    "train_index=np.random.choice(100,80)\n",
    "#line6-------------\n",
    "#randomnly select 80% of the indices under variable train_index and rest under test_index\n",
    "#line7-----------------------------------------------\n",
    "test_index = np.array(list(set(range(len(X))) - set(train_index)))\n",
    "test_index = np.array(list(set(range(len(X))) - set(train_index)))"
   ]
  },
  {
   "cell_type": "code",
   "execution_count": 459,
   "metadata": {},
   "outputs": [
    {
     "data": {
      "text/plain": [
       "array([[5.7, 2.8, 4.1, 1.3],\n",
       "       [6. , 2.9, 4.5, 1.5],\n",
       "       [5.9, 3. , 4.2, 1.5],\n",
       "       [5.4, 3.9, 1.3, 0.4],\n",
       "       [6.1, 2.8, 4.7, 1.2]])"
      ]
     },
     "execution_count": 459,
     "metadata": {},
     "output_type": "execute_result"
    }
   ],
   "source": [
    "train_X = X[train_index]\n",
    "train_y = Y[train_index]\n",
    "test_X = X[test_index]\n",
    "test_y = Y[test_index]\n",
    "train_X[:5]"
   ]
  },
  {
   "cell_type": "code",
   "execution_count": 460,
   "metadata": {},
   "outputs": [
    {
     "data": {
      "text/plain": [
       "array([[0.07692308, 0.77777778, 0.1025641 , 0.11764706],\n",
       "       [0.38461538, 0.94444444, 0.12820513, 0.05882353],\n",
       "       [0.15384615, 0.55555556, 0.1025641 , 0.        ],\n",
       "       [0.26923077, 0.83333333, 0.1025641 , 0.11764706],\n",
       "       [0.38461538, 0.77777778, 0.17948718, 0.05882353]])"
      ]
     },
     "execution_count": 460,
     "metadata": {},
     "output_type": "execute_result"
    }
   ],
   "source": [
    "# Define the min-max normalization function\n",
    "def min_max_normalized(data): # we are using here min-max normalisation, helpful to bring down every values in all the feature columns of the dataset to common scale \n",
    "#codesegment8------------------\n",
    "    m=data.min()\n",
    "    M=data.max()\n",
    "    data=(data-m)/(M-m)\n",
    "    return data\n",
    "f=train_X.shape[1]\n",
    "for i in range(f):\n",
    "    train_X[:,i]=min_max_normalized(train_X[:,i])\n",
    "    test_X[:,i]=min_max_normalized(test_X[:,i])\n",
    "test_X[:5]"
   ]
  },
  {
   "cell_type": "code",
   "execution_count": 461,
   "metadata": {},
   "outputs": [],
   "source": [
    "# Begin building the model framework\n",
    "# Declare the variables that need to be learned and initialization\n",
    "# There are 4 features here, so W's dimension is (4, 1)\n",
    "#line9---------------------------- #weights\n",
    "W = tf.Variable(tf.random_normal(shape=[4,1]))\n",
    "b = tf.Variable(tf.random_normal(shape=[1, 1])) #bias\n",
    "#constructor for random initialization\n",
    "#line10\n",
    "init = tf.global_variables_initializer()\n",
    "sess = tf.Session()\n",
    "sess.run(init)"
   ]
  },
  {
   "cell_type": "code",
   "execution_count": 462,
   "metadata": {},
   "outputs": [],
   "source": [
    "# Define placeholders\n",
    "data = tf.placeholder(dtype=tf.float32, shape=[None, 4])#comment on the difference between tf.placeholder and tf.variable-----\n",
    "target = tf.placeholder(dtype=tf.float32, shape=[None, 1])"
   ]
  },
  {
   "cell_type": "code",
   "execution_count": 463,
   "metadata": {},
   "outputs": [],
   "source": [
    "# Declare the 'model' you need to learn\n",
    "#line11-------------------------------------------\n",
    "mod = tf.matmul(data , W) + b"
   ]
  },
  {
   "cell_type": "code",
   "execution_count": 464,
   "metadata": {},
   "outputs": [],
   "source": [
    "# Declare loss function\n",
    "# Use the sigmoid cross-entropy loss function,\n",
    "# first doing a sigmoid on the model result and then using the cross-entropy loss function\n",
    "loss = tf.reduce_mean(tf.nn.sigmoid_cross_entropy_with_logits(logits=mod, labels=target))"
   ]
  },
  {
   "cell_type": "code",
   "execution_count": 465,
   "metadata": {},
   "outputs": [],
   "source": [
    "# Define the learning rate， batch_size and number of iterations.\n",
    "#learning_rate\n",
    "#line12--------------------------------\n",
    "learning_rate = 0.01\n",
    "#batch_size---- #using batch makes the training ------?\n",
    "batch_size = 30\n",
    "#line13-------------------------------\n",
    "#iter_num\n",
    "iter_num = 1000"
   ]
  },
  {
   "cell_type": "code",
   "execution_count": 466,
   "metadata": {},
   "outputs": [],
   "source": [
    "# Define the optimizer with name opt\n",
    "#line14-----------------------------\n",
    "opt = tf.train.GradientDescentOptimizer(learning_rate)\n",
    "# Define the goal\n",
    "goal = opt.minimize(loss)"
   ]
  },
  {
   "cell_type": "code",
   "execution_count": 467,
   "metadata": {},
   "outputs": [],
   "source": [
    "# Define the accuracy\n",
    "# The default threshold is 0.5, rounded off directly\n",
    "prediction = tf.round(tf.sigmoid(mod))\n",
    "# Bool into float32 type\n",
    "correct = tf.cast(tf.equal(prediction, target), dtype=tf.float32)\n",
    "# Average\n",
    "accuracy = tf.reduce_mean(correct)\n",
    "# End of the definition of the model framework"
   ]
  },
  {
   "cell_type": "code",
   "execution_count": 468,
   "metadata": {},
   "outputs": [],
   "source": [
    "# Start training model\n",
    "# Define the variable that stores the result\n",
    "loss_trace = []\n",
    "train_acc = []"
   ]
  },
  {
   "cell_type": "code",
   "execution_count": 469,
   "metadata": {},
   "outputs": [
    {
     "name": "stdout",
     "output_type": "stream",
     "text": [
      "epoch:  100 loss: 0.673809 train_acc: 0.433333 test_acc: 0.545455\n",
      "epoch:  200 loss: 0.627657 train_acc: 0.333333 test_acc: 0.568182\n",
      "epoch:  300 loss: 0.431490 train_acc: 0.933333 test_acc: 0.863636\n",
      "epoch:  400 loss: 0.394539 train_acc: 1.000000 test_acc: 1.000000\n",
      "epoch:  500 loss: 0.319488 train_acc: 1.000000 test_acc: 1.000000\n",
      "epoch:  600 loss: 0.285923 train_acc: 1.000000 test_acc: 1.000000\n",
      "epoch:  700 loss: 0.241011 train_acc: 1.000000 test_acc: 1.000000\n",
      "epoch:  800 loss: 0.253237 train_acc: 1.000000 test_acc: 1.000000\n",
      "epoch:  900 loss: 0.223385 train_acc: 1.000000 test_acc: 1.000000\n",
      "epoch: 1000 loss: 0.212059 train_acc: 1.000000 test_acc: 1.000000\n",
      "The test accuracy is: 1.000000\n"
     ]
    }
   ],
   "source": [
    "# training model using mini-batch gradient descent\n",
    "for epoch in range(iter_num):\n",
    "    # Generate random batch_index\n",
    "    #line15------------------------------ #randomnly picks up up 30 sample data from the train_X\n",
    "    batch_index = np.random.choice(len(train_X),batch_size)\n",
    "    batch_train_X = train_X[batch_index]\n",
    "    batch_train_y = np.matrix(train_y[batch_index]).T\n",
    "    sess.run(goal, feed_dict={data: batch_train_X, target: batch_train_y})\n",
    "    temp_loss = sess.run(loss, feed_dict={data: batch_train_X, target: batch_train_y})\n",
    "    #Similarly store train accuracy value for current epoch using sess.run\n",
    "    #line16---------------------------\n",
    "    temp_train_acc = sess.run(accuracy,feed_dict={data: batch_train_X,target: batch_train_y})\n",
    "    # recode the results of loss and train accuracy\n",
    "    #codesegment17---------------------\n",
    "    loss_trace.append(temp_loss)\n",
    "    train_acc.append(temp_train_acc)\n",
    "    temp_test_acc = sess.run(accuracy, feed_dict = {data: test_X,target: np.matrix(test_y).T})\n",
    "    # output\n",
    "    if (epoch + 1) % 100 == 0:\n",
    "        print('epoch: {:4d} loss: {:5f} train_acc: {:5f} test_acc: {:5f}'.format(epoch + 1, temp_loss,\n",
    "                                                                         temp_train_acc, temp_test_acc))\n",
    "sess.close()        \n",
    "#Write the command to calculate test accuracy:\n",
    "#line18-------------------------------\n",
    "print(\"The test accuracy is: {:5f}\".format(temp_test_acc))"
   ]
  },
  {
   "cell_type": "code",
   "execution_count": 470,
   "metadata": {},
   "outputs": [
    {
     "data": {
      "text/plain": [
       "Text(0.5, 1.0, ' Cross Entropy Loss ')"
      ]
     },
     "execution_count": 470,
     "metadata": {},
     "output_type": "execute_result"
    },
    {
     "data": {
      "image/png": "[encoded data removed]",
      "text/plain": [
       "<Figure size 432x288 with 1 Axes>"
      ]
     },
     "metadata": {},
     "output_type": "display_data"
    }
   ],
   "source": [
    "# Visualization of the results\n",
    "# loss function\n",
    "#codesegment19------------------------\n",
    "sns.lineplot(np.arange(len(loss_trace)),loss_trace)\n",
    "plt.xlabel(\"epoch\")\n",
    "plt.ylabel(\"loss\")\n",
    "plt.title(\" Cross Entropy Loss \")"
   ]
  },
  {
   "cell_type": "code",
   "execution_count": 471,
   "metadata": {},
   "outputs": [
    {
     "data": {
      "image/png": "[encoded data removed]",
      "text/plain": [
       "<Figure size 432x288 with 1 Axes>"
      ]
     },
     "metadata": {},
     "output_type": "display_data"
    }
   ],
   "source": [
    "# plot for training accuracy\n",
    "#codesegment20---------------------------\n",
    "plt.plot(train_acc,label=\"train accuracy\")\n",
    "plt.xlabel(\"epoch\")\n",
    "plt.ylabel(\"accuracy\")\n",
    "plt.title(\"Training accuracy\")\n",
    "plt.legend()\n",
    "plt.show()\n"
   ]
  },
  {
   "cell_type": "code",
   "execution_count": null,
   "metadata": {},
   "outputs": [],
   "source": []
  }
 ],
 "metadata": {
  "kernelspec": {
   "display_name": "Python 3",
   "language": "python",
   "name": "python3"
  },
  "language_info": {
   "codemirror_mode": {
    "name": "ipython",
    "version": 3
   },
   "file_extension": ".py",
   "mimetype": "text/x-python",
   "name": "python",
   "nbconvert_exporter": "python",
   "pygments_lexer": "ipython3",
   "version": "3.5.6"
  }
 },
 "nbformat": 4,
 "nbformat_minor": 2
}
